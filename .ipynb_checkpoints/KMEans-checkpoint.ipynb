{
 "cells": [
  {
   "cell_type": "code",
   "execution_count": 9,
   "metadata": {
    "collapsed": true
   },
   "outputs": [],
   "source": [
    "import os\n",
    "import time\n",
    "import csv\n",
    "import pandas as pd\n",
    "import numpy as np\n",
    "from sklearn.cluster import KMeans\n",
    "import requests    "
   ]
  },
  {
   "cell_type": "code",
   "execution_count": null,
   "metadata": {
    "collapsed": true
   },
   "outputs": [],
   "source": []
  },
  {
   "cell_type": "code",
   "execution_count": 16,
   "metadata": {},
   "outputs": [
    {
     "name": "stdout",
     "output_type": "stream",
     "text": [
      "2017-01-03 17:13:59.425743 \n",
      "        0\n",
      "0     427\n",
      "1    8220\n",
      "2    8795\n",
      "3   10629\n",
      "4   10692\n",
      "5   11066\n",
      "6   14293\n",
      "7   15317\n",
      "8   15432\n",
      "9   15698\n",
      "10  16469\n",
      "11  16662\n",
      "12  16717\n",
      "13  16963\n",
      "14  20260\n",
      "15  20263\n",
      "    create  connect\n",
      "0      427      429\n",
      "1     8220     8222\n",
      "2     8795     8798\n",
      "3    10629    10632\n",
      "4    10692    10695\n",
      "5    11066    11068\n",
      "6    14293    14295\n",
      "7    15317    15319\n",
      "8    15432    15472\n",
      "9    15698    15700\n",
      "10   16469    16471\n",
      "11   16662    16664\n",
      "12   16717    16719\n",
      "13   16963    16966\n",
      "14   20260    20262\n",
      "15   20263    20265\n"
     ]
    }
   ],
   "source": [
    "df = pd.read_csv('machine-learning/hci.csv')\n",
    "userID = df.iloc[0,0]\n",
    "df = df.iloc[2:]\n",
    "df.columns = ['Time','Info']\n",
    "df['Time'] = pd.to_datetime(df['Time'], format='%Y-%m-%d %H:%M:%S.%f').astype(np.int64)\n",
    "createConnection = pd.DataFrame(df.index[df['Info'].str.contains('HCI Command: Create Connection|HCI Command: Accept Connection Request')].tolist())\n",
    "print(createConnection)\n",
    "completeConnection = pd.DataFrame(df.index[df['Info'].str.contains('HCI Event: Connect Complete')].tolist())\n",
    "connections = pd.concat([createConnection,completeConnection],axis=1)\n",
    "connections.columns = ['create','connect']\n",
    "print(connections)\n",
    "\n",
    "i = len(connections)-2\n",
    "mlpredictors = []\n",
    "\n",
    "df_test = df.iloc[connections.create[i]:connections.create[i+1]]\n",
    "authTime = df['Time'][connections.connect[i]] - df['Time'][connections.create[i]]\n",
    "totalTime = df['Time'][connections.connect[i+1]] - df['Time'][connections.connect[i]]\n",
    "packetRate = (len(df_test[df_test['Info'].str.contains('HCI Event: Number of Completed Packets')]))/(1.0*totalTime)\n",
    "eventRate = (len(df_test[df_test['Info'].str.contains('HCI Event:')]))/(1.0*totalTime)\n",
    "commandRate = (len(df_test[df_test['Info'].str.contains('HCI Command:')]))/(1.0*totalTime)\n",
    "encryptRate = (len(df_test[df_test['Info'].str.contains('HCI Event: Encrypt Change')]))/(1.0*totalTime)\n",
    "mlpredictors.append([authTime, packetRate, eventRate, commandRate, encryptRate])\n",
    "\n",
    "mlpredictors = pd.DataFrame(mlpredictors)\n",
    "mlpredictors.columns=['Auth Time','Packet Rate','Event Rate','Command Rate','Encrypt Rate']"
   ]
  },
  {
   "cell_type": "code",
   "execution_count": null,
   "metadata": {
    "collapsed": true
   },
   "outputs": [],
   "source": [
    "classifiers = pd.read_csv('machine-learning/mlpredictors.csv')\n",
    "classifiers.columns=['ID','Auth Time','Packet Rate','Event Rate','Command Rate','Encrypt Rate','isFalse']\n",
    "\n",
    "total_vector = classifiers.append(mlpredictors)\n",
    "\n",
    "np_vector = total_vector[['Auth Time','Packet Rate','Event Rate','Command Rate','Encrypt Rate']].as_matrix()\n",
    "\n",
    "kmeans = KMeans(n_clusters=2, random_state=0).fit(np_vector)"
   ]
  },
  {
   "cell_type": "code",
   "execution_count": null,
   "metadata": {},
   "outputs": [],
   "source": [
    "kmeans.predict(mlpredictors[['Auth Time','Packet Rate','Event Rate','Command Rate','Encrypt Rate']].as_matrix())[0]"
   ]
  },
  {
   "cell_type": "code",
   "execution_count": null,
   "metadata": {},
   "outputs": [],
   "source": [
    "kmeans.predict(classifiers[['Auth Time','Packet Rate','Event Rate','Command Rate','Encrypt Rate']].as_matrix())[0]"
   ]
  },
  {
   "cell_type": "code",
   "execution_count": null,
   "metadata": {},
   "outputs": [],
   "source": [
    "classifiers['isFalse'][0]"
   ]
  },
  {
   "cell_type": "code",
   "execution_count": null,
   "metadata": {
    "collapsed": true
   },
   "outputs": [],
   "source": []
  }
 ],
 "metadata": {
  "kernelspec": {
   "display_name": "Python 2",
   "language": "python",
   "name": "python2"
  },
  "language_info": {
   "codemirror_mode": {
    "name": "ipython",
    "version": 2
   },
   "file_extension": ".py",
   "mimetype": "text/x-python",
   "name": "python",
   "nbconvert_exporter": "python",
   "pygments_lexer": "ipython2",
   "version": "2.7.12"
  }
 },
 "nbformat": 4,
 "nbformat_minor": 2
}
