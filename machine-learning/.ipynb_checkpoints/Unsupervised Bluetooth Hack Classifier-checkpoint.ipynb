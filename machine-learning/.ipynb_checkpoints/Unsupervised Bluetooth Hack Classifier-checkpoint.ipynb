{
 "cells": [
  {
   "cell_type": "code",
   "execution_count": 1,
   "metadata": {
    "collapsed": true
   },
   "outputs": [],
   "source": [
    "import csv\n",
    "#get hci output with bash command: hcidump -r hci.log -t > hci.txt   \n",
    "logs = open('hci.txt','r').read().replace('\\n',' ').replace('586524','\\n2017')\n",
    "logs_output = open(\"hcidata.txt\", \"w\")\n",
    "logs_output.write(logs)\n",
    "logs_output.close()"
   ]
  },
  {
   "cell_type": "code",
   "execution_count": 2,
   "metadata": {
    "collapsed": true,
    "scrolled": false
   },
   "outputs": [],
   "source": [
    "data = open('hcidata.txt','r') #replace with hci output\n",
    "csv_data = []\n",
    "skip_header = True\n",
    "for line in data:\n",
    "    if skip_header:\n",
    "        line = next(data)\n",
    "        line = next(data)\n",
    "        skip_header = False\n",
    "    if '<' in line and 'HCI' in line:\n",
    "        csv_data.append(line.split('<'))\n",
    "    elif '>' in line and 'HCI' in line:\n",
    "        csv_data.append(line.split('>'))\n",
    "with open(\"hci.csv\", \"w\") as g:\n",
    "    writer = csv.writer(g)\n",
    "    writer.writerows(csv_data)"
   ]
  },
  {
   "cell_type": "code",
   "execution_count": 3,
   "metadata": {
    "collapsed": true,
    "scrolled": true
   },
   "outputs": [],
   "source": [
    "import csv\n",
    "import pandas as pd\n",
    "import numpy as np\n",
    "import os"
   ]
  },
  {
   "cell_type": "code",
   "execution_count": 4,
   "metadata": {
    "scrolled": true
   },
   "outputs": [
    {
     "name": "stdout",
     "output_type": "stream",
     "text": [
      "    create  connect\n",
      "0      427      429\n",
      "1     8220     8222\n",
      "2     8795     8798\n",
      "3    10629    10632\n",
      "4    10692    10695\n",
      "5    11066    11068\n",
      "6    14293    14295\n",
      "7    15317    15319\n",
      "8    15432    15472\n",
      "9    15698    15700\n",
      "10   16469    16471\n",
      "11   16662    16664\n",
      "12   16717    16719\n",
      "13   16963    16966\n",
      "14   20260    20262\n",
      "15   20263    20265\n"
     ]
    }
   ],
   "source": [
    "df = pd.read_csv('hci.csv')\n",
    "df.columns = ['Time','Info']\n",
    "df['Time'] = pd.to_datetime(df['Time'], format='%Y-%m-%d %H:%M:%S.%f').astype(np.int64)\n",
    "createConnection = pd.DataFrame(df.index[df['Info'].str.contains('HCI Command: Create Connection|HCI Command: Accept Connection Request')].tolist())\n",
    "completeConnection = pd.DataFrame(df.index[df['Info'].str.contains('HCI Event: Connect Complete')].tolist())\n",
    "connections = pd.concat([createConnection,completeConnection],axis=1)\n",
    "connections.columns = ['create','connect']\n",
    "print((connections))\n",
    "\n",
    "#createEncryption = pd.DataFrame((df.index[df['Info'].str.contains('HCI Command')]) & (df.index[df['Info'].str.contains('0x0013')]).tolist())\n",
    "#completeEncryption = pd.DataFrame((df.index[df['Info'].str.contains('HCI Event')]) & (df.index[df['Info'].str.contains('0x0013')]).tolist())\n",
    "#encryption = pd.concat([createEncryption,completeEncryption],axis=1)\n",
    "#encryption.columns = ['create','connect']"
   ]
  },
  {
   "cell_type": "code",
   "execution_count": 5,
   "metadata": {
    "collapsed": true,
    "scrolled": true
   },
   "outputs": [],
   "source": [
    "mlpredictors = []\n",
    "\n",
    "if len(connections)>1:\n",
    "    \n",
    "    for i in range(0,len(connections)-1): ## all past connections\n",
    "        df_test = df[connections.create[i]:connections.create[i+1]]  \n",
    "        #print(df_test)\n",
    "\n",
    "        authTime = df['Time'][connections.connect[i]] - df['Time'][connections.create[i]]\n",
    "  \n",
    "        totalTime = df['Time'][connections.connect[i+1]] - df['Time'][connections.connect[i]]\n",
    "        \n",
    "        packetRate = (len(df_test[df_test['Info'].str.contains('HCI Event: Number of Completed Packets')]))/(1.0*totalTime)\n",
    "            \n",
    "        eventRate = (len(df_test[df_test['Info'].str.contains('HCI Event:')]))/(1.0*totalTime)\n",
    "        \n",
    "        commandRate = (len(df_test[df_test['Info'].str.contains('HCI Command:')]))/(1.0*totalTime)\n",
    "        \n",
    "        encryptRate = (len(df_test[df_test['Info'].str.contains('HCI Event: Encrypt Change')]))/(1.0*totalTime)\n",
    "        \n",
    "        mlpredictors.append([authTime, packetRate, eventRate, commandRate, encryptRate])\n",
    "\n",
    "        \n",
    "mlpredictors = pd.DataFrame(mlpredictors)\n",
    "mlpredictors.columns=['Auth Time','Packet Rate','Event Rate','Command Rate','Encrypt Rate']\n",
    "mlpredictors['isBad'] = False;\n",
    "\n",
    "\n",
    "#generate alternate data to help classifier\n",
    "authTime_alt = np.random.normal(loc=(mlpredictors['Auth Time'].mean() + (2 * (mlpredictors['Auth Time'].std()))), scale=mlpredictors['Auth Time'].std(), size=15)\n",
    "packetRate_alt = np.random.normal(loc=(mlpredictors['Packet Rate'].mean() + (2 * (mlpredictors['Packet Rate'].std()))), scale=mlpredictors['Packet Rate'].std(), size=15)\n",
    "eventRate_alt = np.random.normal(loc=(mlpredictors['Event Rate'].mean() - (2 * (mlpredictors['Event Rate'].std()))), scale=mlpredictors['Event Rate'].std(), size=15)\n",
    "commandRate_alt = np.random.normal(loc=(mlpredictors['Command Rate'].mean() + (2 * (mlpredictors['Command Rate'].std()))), scale=mlpredictors['Command Rate'].std(), size=15)\n",
    "encryptRate_alt = np.random.normal(loc=(mlpredictors['Encrypt Rate'].mean() + (2 * (mlpredictors['Encrypt Rate'].std()))), scale=mlpredictors['Encrypt Rate'].std(), size=15)\n",
    "mlpredictors_alt = pd.DataFrame([authTime_alt, packetRate_alt, eventRate_alt, commandRate_alt, encryptRate_alt]).transpose()\n",
    "mlpredictors_alt.columns=['Auth Time','Packet Rate','Event Rate','Command Rate','Encrypt Rate']\n",
    "mlpredictors_alt['isBad'] = True;\n",
    "\n",
    "mlpredictors_total = mlpredictors.append(mlpredictors_alt, ignore_index=True)\n",
    "\n",
    "os.remove('mlpredictors.csv')\n",
    "with open('mlpredictors.csv', 'a') as f:\n",
    "    mlpredictors_total.to_csv(f, mode='a', header=False)\n"
   ]
  },
  {
   "cell_type": "code",
   "execution_count": 6,
   "metadata": {
    "scrolled": false
   },
   "outputs": [
    {
     "name": "stdout",
     "output_type": "stream",
     "text": [
      "Checking whether there is an H2O instance running at http://localhost:54321. connected.\n"
     ]
    },
    {
     "data": {
      "text/html": [
       "<div style=\"overflow:auto\"><table style=\"width:50%\"><tr><td>H2O cluster uptime:</td>\n",
       "<td>1 day 6 hours 30 mins</td></tr>\n",
       "<tr><td>H2O cluster version:</td>\n",
       "<td>3.14.0.3</td></tr>\n",
       "<tr><td>H2O cluster version age:</td>\n",
       "<td>1 day </td></tr>\n",
       "<tr><td>H2O cluster name:</td>\n",
       "<td>H2O_from_python_surya_57ql11</td></tr>\n",
       "<tr><td>H2O cluster total nodes:</td>\n",
       "<td>1</td></tr>\n",
       "<tr><td>H2O cluster free memory:</td>\n",
       "<td>7.092 Gb</td></tr>\n",
       "<tr><td>H2O cluster total cores:</td>\n",
       "<td>4</td></tr>\n",
       "<tr><td>H2O cluster allowed cores:</td>\n",
       "<td>1</td></tr>\n",
       "<tr><td>H2O cluster status:</td>\n",
       "<td>locked, healthy</td></tr>\n",
       "<tr><td>H2O connection url:</td>\n",
       "<td>http://localhost:54321</td></tr>\n",
       "<tr><td>H2O connection proxy:</td>\n",
       "<td>None</td></tr>\n",
       "<tr><td>H2O internal security:</td>\n",
       "<td>False</td></tr>\n",
       "<tr><td>H2O API Extensions:</td>\n",
       "<td>XGBoost, Algos, AutoML, Core V3, Core V4</td></tr>\n",
       "<tr><td>Python version:</td>\n",
       "<td>2.7.12 final</td></tr></table></div>"
      ],
      "text/plain": [
       "--------------------------  ----------------------------------------\n",
       "H2O cluster uptime:         1 day 6 hours 30 mins\n",
       "H2O cluster version:        3.14.0.3\n",
       "H2O cluster version age:    1 day\n",
       "H2O cluster name:           H2O_from_python_surya_57ql11\n",
       "H2O cluster total nodes:    1\n",
       "H2O cluster free memory:    7.092 Gb\n",
       "H2O cluster total cores:    4\n",
       "H2O cluster allowed cores:  1\n",
       "H2O cluster status:         locked, healthy\n",
       "H2O connection url:         http://localhost:54321\n",
       "H2O connection proxy:\n",
       "H2O internal security:      False\n",
       "H2O API Extensions:         XGBoost, Algos, AutoML, Core V3, Core V4\n",
       "Python version:             2.7.12 final\n",
       "--------------------------  ----------------------------------------"
      ]
     },
     "metadata": {},
     "output_type": "display_data"
    },
    {
     "name": "stdout",
     "output_type": "stream",
     "text": [
      "Parse progress: |█████████████████████████████████████████████████████████| 100%\n",
      "kmeans Model Build progress: |████████████████████████████████████████████| 100%\n",
      "kmeans prediction progress: |█████████████████████████████████████████████| 100%\n",
      "    isBad  group\n",
      "0   False      0\n",
      "1   False      0\n",
      "2   False      0\n",
      "3   False      0\n",
      "4   False      0\n",
      "5   False      0\n",
      "6   False      1\n",
      "7   False      0\n",
      "8   False      0\n",
      "9   False      1\n",
      "10  False      0\n",
      "11  False      1\n",
      "12  False      1\n",
      "13  False      1\n",
      "14  False      0\n",
      "15   True      0\n",
      "16   True      0\n",
      "17   True      0\n",
      "18   True      0\n",
      "19   True      1\n",
      "20   True      0\n",
      "21   True      1\n",
      "22   True      1\n",
      "23   True      1\n",
      "24   True      0\n",
      "25   True      1\n",
      "26   True      0\n",
      "27   True      0\n",
      "28   True      1\n",
      "29   True      1\n"
     ]
    }
   ],
   "source": [
    "import h2o\n",
    "h2o.init()\n",
    "\n",
    "predictors = h2o.import_file(\"mlpredictors.csv\")\n",
    "\n",
    "#print (predictors)\n",
    "\n",
    "from h2o.estimators.kmeans import H2OKMeansEstimator\n",
    "m = H2OKMeansEstimator(k=2, standardize=True, init=\"PlusPlus\")\n",
    "m.train(training_frame=predictors[0:5])\n",
    "\n",
    "p = m.predict(predictors)\n",
    "d = predictors[6].cbind(p).as_data_frame()\n",
    "d.columns = [\"isBad\",\"group\"]\n",
    "print d\n",
    "\n",
    "#def isKClose(authTime, packetRate, eventRate, commandRate, encryptRate):\n"
   ]
  },
  {
   "cell_type": "code",
   "execution_count": null,
   "metadata": {
    "collapsed": true
   },
   "outputs": [],
   "source": []
  },
  {
   "cell_type": "code",
   "execution_count": null,
   "metadata": {
    "collapsed": true
   },
   "outputs": [],
   "source": []
  }
 ],
 "metadata": {
  "kernelspec": {
   "display_name": "Python 2",
   "language": "python",
   "name": "python2"
  },
  "language_info": {
   "codemirror_mode": {
    "name": "ipython",
    "version": 2
   },
   "file_extension": ".py",
   "mimetype": "text/x-python",
   "name": "python",
   "nbconvert_exporter": "python",
   "pygments_lexer": "ipython2",
   "version": "2.7.12"
  }
 },
 "nbformat": 4,
 "nbformat_minor": 2
}
